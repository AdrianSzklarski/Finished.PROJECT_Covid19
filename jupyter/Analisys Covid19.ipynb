{
 "cells": [
  {
   "cell_type": "code",
   "execution_count": 1,
   "id": "305144f4",
   "metadata": {},
   "outputs": [],
   "source": [
    "# Importing libraries\n",
    "import pandas as pd\n",
    "import seaborn as sns\n",
    "import matplotlib.pyplot as plt\n",
    "import urllib.request, json "
   ]
  },
  {
   "cell_type": "code",
   "execution_count": null,
   "id": "3623a5ed",
   "metadata": {},
   "outputs": [],
   "source": [
    "# Several methods to retrieve JSON\n",
    "# df=pd.read_json('https://www..../.json')\n",
    "# data = json.load('/home/.../.json')\n",
    "\n",
    "# with urllib.request.urlopen(\"https://.../.json\") as url:\n",
    "#     data = json.load(url)\n",
    "#     print(data)\n",
    "\n",
    "# with open('/..,/Covid19.json', 'r') as myfile:\n",
    "#     data=myfile.read()\n",
    "\n",
    "# # parse file\n",
    "# obj = json.loads(data)"
   ]
  },
  {
   "cell_type": "code",
   "execution_count": 2,
   "id": "9b80ab0a",
   "metadata": {},
   "outputs": [],
   "source": [
    "df=pd.read_json('/home/adrian/Pulpit/GitHub_Public/Covid_19/Covid19.json')"
   ]
  },
  {
   "cell_type": "code",
   "execution_count": null,
   "id": "549431f7",
   "metadata": {},
   "outputs": [],
   "source": []
  },
  {
   "cell_type": "code",
   "execution_count": null,
   "id": "90dc3f70",
   "metadata": {},
   "outputs": [],
   "source": []
  }
 ],
 "metadata": {
  "kernelspec": {
   "display_name": "Python 3 (ipykernel)",
   "language": "python",
   "name": "python3"
  },
  "language_info": {
   "codemirror_mode": {
    "name": "ipython",
    "version": 3
   },
   "file_extension": ".py",
   "mimetype": "text/x-python",
   "name": "python",
   "nbconvert_exporter": "python",
   "pygments_lexer": "ipython3",
   "version": "3.10.6"
  }
 },
 "nbformat": 4,
 "nbformat_minor": 5
}
